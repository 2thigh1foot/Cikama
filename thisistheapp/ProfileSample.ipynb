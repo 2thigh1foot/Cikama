{
 "cells": [
  {
   "cell_type": "code",
   "execution_count": 1,
   "metadata": {},
   "outputs": [],
   "source": [
    "import requests\n",
    "import time"
   ]
  },
  {
   "cell_type": "code",
   "execution_count": 2,
   "metadata": {},
   "outputs": [],
   "source": [
    "token = \"UVI4dC9IcWJoMkw1REpWbHNycVBUQT09\"\n",
    "base_url = \"https://trefle.io/api/plants/\""
   ]
  },
  {
   "cell_type": "code",
   "execution_count": 3,
   "metadata": {},
   "outputs": [],
   "source": [
    "def recurseObject(obj):\n",
    "    temp = {}\n",
    "    for field in obj.keys():\n",
    "        if obj[field] == None:\n",
    "            continue\n",
    "        if type(obj[field]) == dict:\n",
    "            rec = recurseObject(obj[field])\n",
    "            if rec:\n",
    "                temp[field] = rec\n",
    "        elif type(obj[field]) == list:\n",
    "            temp[field] = []\n",
    "            for i in range(len(obj[field])):\n",
    "                rec = recurseObject(obj[field][i])\n",
    "                if rec:\n",
    "                    temp[field].append(rec)\n",
    "            if not temp[field]:\n",
    "                del temp[field]\n",
    "        else:\n",
    "            temp[field] = obj[field]\n",
    "    return temp"
   ]
  },
  {
   "cell_type": "code",
   "execution_count": 4,
   "metadata": {},
   "outputs": [
    {
     "name": "stdout",
     "output_type": "stream",
     "text": [
      "166952\n",
      "170001\n",
      "266585\n"
     ]
    }
   ],
   "source": [
    "ids = [166952,170001,266585]\n",
    "plantObj = {}\n",
    "for plant_id in ids:\n",
    "    print(plant_id)\n",
    "    api_url = base_url + str(plant_id) + \"?token=\" + token\n",
    "    response = requests.get(api_url)\n",
    "    plantObj[plant_id] = recurseObject(response.json())"
   ]
  },
  {
   "cell_type": "code",
   "execution_count": 7,
   "metadata": {},
   "outputs": [
    {
     "data": {
      "text/plain": [
       "{166952: {'scientific_name': 'Pinus ×sondereggeri',\n",
       "  'native_status': 'L48(N)',\n",
       "  'main_species': {'type': 'hybrid',\n",
       "   'synonym': False,\n",
       "   'status': 'Unknown',\n",
       "   'sources': [{'species_id': 166952,\n",
       "     'source_url': 'https://plants.usda.gov',\n",
       "     'name': 'USDA',\n",
       "     'last_update': '2019-01-11T11:15:57.637482'}],\n",
       "   'slug': 'pinus-×sondereggeri',\n",
       "   'scientific_name': 'Pinus ×sondereggeri',\n",
       "   'native_status': 'L48(N)',\n",
       "   'is_main_species': True,\n",
       "   'id': 166952,\n",
       "   'family_common_name': 'Pine family',\n",
       "   'duration': 'Perennial',\n",
       "   'complete_data': False,\n",
       "   'common_name': 'Sonderegger pine'},\n",
       "  'id': 166952,\n",
       "  'genus': {'slug': 'pinus',\n",
       "   'name': 'Pinus',\n",
       "   'link': 'http://trefle.io/api/genuses/5',\n",
       "   'id': 5},\n",
       "  'family_common_name': 'Pine family',\n",
       "  'duration': 'Perennial',\n",
       "  'common_name': 'Sonderegger pine'},\n",
       " 170001: {'scientific_name': 'Hoffmannseggia jamesii',\n",
       "  'main_species': {'type': 'species',\n",
       "   'synonym': False,\n",
       "   'status': 'Unknown',\n",
       "   'sources': [{'species_id': 170001,\n",
       "     'source_url': 'https://plants.usda.gov',\n",
       "     'name': 'USDA',\n",
       "     'last_update': '2019-01-11T11:24:19.124289'}],\n",
       "   'slug': 'hoffmannseggia-jamesii',\n",
       "   'scientific_name': 'Hoffmannseggia jamesii',\n",
       "   'is_main_species': True,\n",
       "   'id': 170001,\n",
       "   'complete_data': False},\n",
       "  'id': 170001,\n",
       "  'genus': {'slug': 'hoffmannseggia',\n",
       "   'name': 'Hoffmannseggia',\n",
       "   'link': 'http://trefle.io/api/genuses/1251',\n",
       "   'id': 1251}},\n",
       " 266585: {'scientific_name': 'Kemulariella abchasica',\n",
       "  'order': {'slug': 'asterales',\n",
       "   'name': 'Asterales',\n",
       "   'link': 'http://trefle.io/api/division_orders/12',\n",
       "   'id': 12},\n",
       "  'main_species': {'type': 'species',\n",
       "   'synonym': False,\n",
       "   'status': 'Accepted',\n",
       "   'sources': [{'species_id': 266585,\n",
       "     'source_url': 'http://www.tropicos.org',\n",
       "     'name': 'Tropicos',\n",
       "     'last_update': '2019-01-12T08:25:37.166783'}],\n",
       "   'slug': 'kemulariella-abchasica',\n",
       "   'scientific_name': 'Kemulariella abchasica',\n",
       "   'is_main_species': True,\n",
       "   'id': 266585,\n",
       "   'complete_data': False,\n",
       "   'bibliography': 'Flora URSS 25: 116. 1959. (Fl. URSS) ',\n",
       "   'author': 'Tamamsch.'},\n",
       "  'id': 266585,\n",
       "  'genus': {'slug': 'kemulariella',\n",
       "   'name': 'Kemulariella',\n",
       "   'link': 'http://trefle.io/api/genuses/9120',\n",
       "   'id': 9120},\n",
       "  'family': {'slug': 'asteraceae',\n",
       "   'name': 'Asteraceae',\n",
       "   'link': 'http://trefle.io/api/families/13',\n",
       "   'id': 13,\n",
       "   'common_name': 'Aster family'},\n",
       "  'division': {'slug': 'magnoliophyta',\n",
       "   'name': 'Magnoliophyta',\n",
       "   'link': 'http://trefle.io/api/divisions/1',\n",
       "   'id': 1},\n",
       "  'class': {'slug': 'magnoliopsida',\n",
       "   'name': 'Magnoliopsida',\n",
       "   'link': 'http://trefle.io/api/division_classes/1',\n",
       "   'id': 1}}}"
      ]
     },
     "execution_count": 7,
     "metadata": {},
     "output_type": "execute_result"
    }
   ],
   "source": [
    "plantObj"
   ]
  },
  {
   "cell_type": "code",
   "execution_count": 6,
   "metadata": {},
   "outputs": [],
   "source": [
    "from app import mongo\n",
    "plants = mongo.db.plants"
   ]
  },
  {
   "cell_type": "code",
   "execution_count": 18,
   "metadata": {},
   "outputs": [],
   "source": [
    "for plant_id in plantObj:\n",
    "    plants.insert_one(plantObj[plant_id])"
   ]
  },
  {
   "cell_type": "code",
   "execution_count": 8,
   "metadata": {},
   "outputs": [
    {
     "name": "stdout",
     "output_type": "stream",
     "text": [
      "166952\n",
      "170001\n",
      "266585\n"
     ]
    }
   ],
   "source": [
    "for plant_id in plantObj:\n",
    "    print(plant_id)"
   ]
  },
  {
   "cell_type": "code",
   "execution_count": null,
   "metadata": {},
   "outputs": [],
   "source": []
  }
 ],
 "metadata": {
  "kernelspec": {
   "display_name": "Python 3",
   "language": "python",
   "name": "python3"
  },
  "language_info": {
   "codemirror_mode": {
    "name": "ipython",
    "version": 3
   },
   "file_extension": ".py",
   "mimetype": "text/x-python",
   "name": "python",
   "nbconvert_exporter": "python",
   "pygments_lexer": "ipython3",
   "version": "3.7.5"
  }
 },
 "nbformat": 4,
 "nbformat_minor": 2
}
