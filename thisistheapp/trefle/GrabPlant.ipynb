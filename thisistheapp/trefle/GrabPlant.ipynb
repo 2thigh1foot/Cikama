{
 "cells": [
  {
   "cell_type": "code",
   "execution_count": 3,
   "metadata": {},
   "outputs": [],
   "source": [
    "import requests\n",
    "import pickle\n",
    "import sys\n",
    "\n",
    "plantList = pickle.load( open(\"all_plants.p\",\"rb\"))\n",
    "# Remove species for now\n",
    "plantList = [x for x in plantList if not \"family_common_name\" in x]\n",
    "plantList = [x for x in plantList if x[\"complete_data\"] == True]\n",
    "\n",
    "plantObj = {}\n",
    "\n",
    "for plant in plantList:\n",
    "    plantObj[plant[\"id\"]] = plant"
   ]
  },
  {
   "cell_type": "code",
   "execution_count": 5,
   "metadata": {},
   "outputs": [
    {
     "data": {
      "text/plain": [
       "1010"
      ]
     },
     "execution_count": 5,
     "metadata": {},
     "output_type": "execute_result"
    }
   ],
   "source": [
    "len(plantList)"
   ]
  },
  {
   "cell_type": "code",
   "execution_count": 6,
   "metadata": {},
   "outputs": [],
   "source": [
    "token = \"UDdJZ01ZTkhxWjd1Y1lTYUloeGFvZz09\"\n",
    "base_url = \"https://trefle.io/api/plants/\"\n",
    "\n",
    "def recurseObject(obj):\n",
    "    temp = {}\n",
    "    for field in obj.keys():\n",
    "        if obj[field] == None:\n",
    "            continue\n",
    "        if type(obj[field]) == dict:\n",
    "            rec = recurseObject(obj[field])\n",
    "            if rec:\n",
    "                temp[field] = rec\n",
    "        elif type(obj[field]) == list:\n",
    "            temp[field] = []\n",
    "            for i in range(len(obj[field])):\n",
    "                rec = recurseObject(obj[field][i])\n",
    "                if rec:\n",
    "                    temp[field].append(rec)\n",
    "            if not temp[field]:\n",
    "                del temp[field]\n",
    "        else:\n",
    "            temp[field] = obj[field]\n",
    "    return temp\n",
    "                "
   ]
  },
  {
   "cell_type": "code",
   "execution_count": 7,
   "metadata": {},
   "outputs": [
    {
     "data": {
      "text/plain": [
       "{'scientific_name': 'Elodea nuttallii',\n",
       " 'native_status': 'L48(N)CAN(N)',\n",
       " 'main_species': {'type': 'species',\n",
       "  'synonym': False,\n",
       "  'status': 'Unknown',\n",
       "  'sources': [{'species_id': 131769,\n",
       "    'source_url': 'https://plants.usda.gov',\n",
       "    'name': 'USDA',\n",
       "    'last_update': '2019-01-11T10:06:39.445015'}],\n",
       "  'slug': 'elodea-nuttallii',\n",
       "  'scientific_name': 'Elodea nuttallii',\n",
       "  'native_status': 'L48(N)CAN(N)',\n",
       "  'is_main_species': True,\n",
       "  'images': [{'url': 'https://upload.wikimedia.org/wikipedia/commons/e/ec/Elodea_canadensis.jpeg'},\n",
       "   {'url': 'https://upload.wikimedia.org/wikipedia/commons/d/db/Elodea_nuttallii-female_flower.jpg'},\n",
       "   {'url': 'https://upload.wikimedia.org/wikipedia/commons/6/68/ElodeaNuttallii2.jpg'}],\n",
       "  'id': 131769,\n",
       "  'family_common_name': 'Tape-grass family',\n",
       "  'duration': 'Perennial',\n",
       "  'complete_data': False,\n",
       "  'common_name': 'western waterweed'},\n",
       " 'images': [{'url': 'https://upload.wikimedia.org/wikipedia/commons/e/ec/Elodea_canadensis.jpeg'},\n",
       "  {'url': 'https://upload.wikimedia.org/wikipedia/commons/d/db/Elodea_nuttallii-female_flower.jpg'},\n",
       "  {'url': 'https://upload.wikimedia.org/wikipedia/commons/6/68/ElodeaNuttallii2.jpg'}],\n",
       " 'id': 131769,\n",
       " 'genus': {'slug': 'elodea',\n",
       "  'name': 'Elodea',\n",
       "  'link': 'http://trefle.io/api/genuses/2654',\n",
       "  'id': 2654},\n",
       " 'family_common_name': 'Tape-grass family',\n",
       " 'duration': 'Perennial',\n",
       " 'common_name': 'western waterweed'}"
      ]
     },
     "execution_count": 7,
     "metadata": {},
     "output_type": "execute_result"
    }
   ],
   "source": [
    "api_url = base_url + '131769' + \"?token=\" + token\n",
    "response = requests.get(api_url)\n",
    "data = response.json()\n",
    "data = recurseObject(data)\n",
    "data"
   ]
  },
  {
   "cell_type": "code",
   "execution_count": 8,
   "metadata": {},
   "outputs": [
    {
     "name": "stdout",
     "output_type": "stream",
     "text": [
      "Len: 0   Size: 240\n",
      "Len: 100   Size: 4704\n",
      "Len: 200   Size: 9320\n",
      "Len: 300   Size: 9320\n",
      "Len: 400   Size: 18528\n",
      "Len: 500   Size: 18528\n",
      "Len: 600   Size: 18528\n",
      "Len: 700   Size: 36968\n",
      "Len: 800   Size: 36968\n",
      "Len: 900   Size: 36968\n",
      "Len: 1000   Size: 36968\n"
     ]
    }
   ],
   "source": [
    "def getData(plant_id):\n",
    "    api_url = base_url + str(plant_id) + \"?token=\" + token\n",
    "    response = requests.get(api_url)\n",
    "    \n",
    "    if response.status_code == 200:\n",
    "        temp_data = response.json()\n",
    "        abriged = {}\n",
    "        abriged = recurseObject(temp_data)\n",
    "        \n",
    "        return abriged\n",
    "    \n",
    "    else:\n",
    "        return {}\n",
    "                        \n",
    "full_data = {}\n",
    "for plant_id in plantObj:\n",
    "    if len(full_data) % 100 == 0:\n",
    "        print(\"Len: {}   Size: {}\".format(len(full_data),sys.getsizeof(full_data)))\n",
    "    full_data[plant_id] = getData(plant_id)\n",
    "\n",
    "pickle.dump( full_data, open( \"complete_data.p\", \"wb\" ) )"
   ]
  },
  {
   "cell_type": "code",
   "execution_count": null,
   "metadata": {},
   "outputs": [],
   "source": []
  }
 ],
 "metadata": {
  "kernelspec": {
   "display_name": "Python 3",
   "language": "python",
   "name": "python3"
  },
  "language_info": {
   "codemirror_mode": {
    "name": "ipython",
    "version": 3
   },
   "file_extension": ".py",
   "mimetype": "text/x-python",
   "name": "python",
   "nbconvert_exporter": "python",
   "pygments_lexer": "ipython3",
   "version": "3.7.3"
  }
 },
 "nbformat": 4,
 "nbformat_minor": 2
}
