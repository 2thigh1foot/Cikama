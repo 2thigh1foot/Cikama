{
 "cells": [
  {
   "cell_type": "code",
   "execution_count": 43,
   "metadata": {},
   "outputs": [],
   "source": [
    "import pickle\n",
    "import json\n",
    "\n",
    "with open('complete_data.p', 'rb') as fp:\n",
    "    plant_data = pickle.load(fp)\n",
    "    fp.close()\n",
    "\n",
    "relevant_keys = [183038, 123107, 151390]\n",
    "main_data = plant_data[183038]['main_species']\n",
    "growth_data = main_data['growth']\n",
    "\n",
    "# print(main_data.keys())\n",
    "# print()\n",
    "# print(growth_data.keys())\n",
    "# for key,value in main_data.items():\n",
    "#     print(f'{key}: {value}')\n"
   ]
  },
  {
   "cell_type": "code",
   "execution_count": 45,
   "metadata": {},
   "outputs": [
    {
     "name": "stdout",
     "output_type": "stream",
     "text": [
      "\n",
      "    Common Name: Mescal Bean\n",
      "    Lifespan: Long\n",
      "    Best Time to Grow: Spring and Summer\n",
      "    Growth Habit: Tree, Shrub\n",
      "    Minimum Temperature: 7.0 F (-13.89 C)\n",
      "    Shade Tolerance: Intolerant\n",
      "    Toxicity: None\n",
      "    Min Water Need: 8.0 in (20.32 cm)\n",
      "    Watering Lim: 24.0 in (60.96 cm)\n",
      "    Soil pH Range: 6.0 - 9.5\n",
      "\n",
      "    Common Name: Tiplant\n",
      "    Lifespan: Long\n",
      "    Best Time to Grow: Year Round\n",
      "    Growth Habit: Tree, Shrub, Subshrub\n",
      "    Minimum Temperature: 35.0 F (1.67 C)\n",
      "    Shade Tolerance: Intermediate\n",
      "    Toxicity: None\n",
      "    Min Water Need: 40.0 in (101.6 cm)\n",
      "    Watering Lim: 200.0 in (508.0 cm)\n",
      "    Soil pH Range: 5.5 - 7.7\n",
      "\n",
      "    Common Name: Nineleaf Biscuitroot\n",
      "    Lifespan: Moderate\n",
      "    Best Time to Grow: Spring and Summer\n",
      "    Growth Habit: Forb/herb\n",
      "    Minimum Temperature: -33.0 F (-36.11 C)\n",
      "    Shade Tolerance: Intermediate\n",
      "    Toxicity: None\n",
      "    Min Water Need: 8.0 in (20.32 cm)\n",
      "    Watering Lim: 20.0 in (50.8 cm)\n",
      "    Soil pH Range: 6.5 - 8.8\n"
     ]
    }
   ],
   "source": [
    "for k in relevant_keys:\n",
    "    main_data = plant_data[k]['main_species']\n",
    "    growth_data = main_data['growth']\n",
    "    print(f'''\n",
    "    Common Name: {plant_data[k]['common_name'].title()}\n",
    "    Lifespan: {main_data['specifications']['lifespan']}\n",
    "    Best Time to Grow: {main_data['specifications']['growth_period']}\n",
    "    Growth Habit: {main_data['specifications']['growth_habit']}\n",
    "    Minimum Temperature: {growth_data['temperature_minimum']['deg_f']} F ({round(growth_data['temperature_minimum']['deg_c'],2)} C)\n",
    "    Shade Tolerance: {growth_data['shade_tolerance']}\n",
    "    Toxicity: {main_data['specifications']['toxicity']}\n",
    "    Min Water Need: {growth_data['precipitation_minimum']['inches']} in ({round(growth_data['precipitation_minimum']['cm'],2)} cm)\n",
    "    Watering Lim: {growth_data['precipitation_maximum']['inches']} in ({round(growth_data['precipitation_maximum']['cm'], 2)} cm)\n",
    "    Soil pH Range: {growth_data['ph_minimum']} - {growth_data['ph_maximum']}''')"
   ]
  },
  {
   "cell_type": "code",
   "execution_count": null,
   "metadata": {},
   "outputs": [],
   "source": []
  }
 ],
 "metadata": {
  "kernelspec": {
   "display_name": "Python 3",
   "language": "python",
   "name": "python3"
  },
  "language_info": {
   "codemirror_mode": {
    "name": "ipython",
    "version": 3
   },
   "file_extension": ".py",
   "mimetype": "text/x-python",
   "name": "python",
   "nbconvert_exporter": "python",
   "pygments_lexer": "ipython3",
   "version": "3.7.5"
  }
 },
 "nbformat": 4,
 "nbformat_minor": 2
}
