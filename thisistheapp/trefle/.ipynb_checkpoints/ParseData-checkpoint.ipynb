{
 "cells": [
  {
   "cell_type": "code",
   "execution_count": 17,
   "metadata": {},
   "outputs": [
    {
     "name": "stdout",
     "output_type": "stream",
     "text": [
      "\n",
      "    Common Name: Mescal Bean\n",
      "    Minimum Temperature: 7.0\n",
      "    Shade Tolerance: Intolerant\n",
      "    Toxicity: None\n",
      "    Min Water Need: 8.0\n",
      "    Watering Lim: 24.0\n",
      "    Soil pH Range: 6.0 - 9.5\n",
      "\n",
      "    Common Name: Tiplant\n",
      "    Minimum Temperature: 35.0\n",
      "    Shade Tolerance: Intermediate\n",
      "    Toxicity: None\n",
      "    Min Water Need: 40.0\n",
      "    Watering Lim: 200.0\n",
      "    Soil pH Range: 5.5 - 7.7\n",
      "\n",
      "    Common Name: Nineleaf Biscuitroot\n",
      "    Minimum Temperature: -33.0\n",
      "    Shade Tolerance: Intermediate\n",
      "    Toxicity: None\n",
      "    Min Water Need: 8.0\n",
      "    Watering Lim: 20.0\n",
      "    Soil pH Range: 6.5 - 8.8\n"
     ]
    }
   ],
   "source": [
    "import pickle\n",
    "import json\n",
    "\n",
    "with open('complete_data.p', 'rb') as fp:\n",
    "    plant_data = pickle.load(fp)\n",
    "    fp.close()\n",
    "\n",
    "relevant_keys = [183038, 123107, 151390]\n",
    "main_data = plant_data[183038]['main_species']\n",
    "growth_data = main_data['growth']\n",
    "\n",
    "print(main_data.keys())\n",
    "print()\n",
    "print(growth_data.keys())\n",
    "for key,value in main_data.items():\n",
    "    print(f'{key}: {value}')\n"
   ]
  },
  {
   "cell_type": "code",
   "execution_count": null,
   "metadata": {},
   "outputs": [],
   "source": [
    "for k in relevant_keys:\n",
    "    main_data = plant_data[k]['main_species']\n",
    "    growth_data = main_data['growth']\n",
    "    print(f'''\n",
    "    Common Name: {plant_data[k]['common_name'].title()}\n",
    "    Minimum Temperature: {growth_data['temperature_minimum']['deg_f']}\n",
    "    Shade Tolerance: {growth_data['shade_tolerance']}\n",
    "    Toxicity: {main_data['specifications']['toxicity']}\n",
    "    Min Water Need: {growth_data['precipitation_minimum']['inches']}\n",
    "    Watering Lim: {growth_data['precipitation_maximum']['inches']}\n",
    "    Soil pH Range: {growth_data['ph_minimum']} - {growth_data['ph_maximum']}''')"
   ]
  }
 ],
 "metadata": {
  "kernelspec": {
   "display_name": "Python 3",
   "language": "python",
   "name": "python3"
  },
  "language_info": {
   "codemirror_mode": {
    "name": "ipython",
    "version": 3
   },
   "file_extension": ".py",
   "mimetype": "text/x-python",
   "name": "python",
   "nbconvert_exporter": "python",
   "pygments_lexer": "ipython3",
   "version": "3.7.5"
  }
 },
 "nbformat": 4,
 "nbformat_minor": 2
}
