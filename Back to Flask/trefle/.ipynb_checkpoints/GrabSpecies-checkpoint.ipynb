{
 "cells": [
  {
   "cell_type": "code",
   "execution_count": 1,
   "metadata": {},
   "outputs": [],
   "source": [
    "import requests\n",
    "import time"
   ]
  },
  {
   "cell_type": "code",
   "execution_count": 2,
   "metadata": {},
   "outputs": [],
   "source": [
    "token = \"UDdJZ01ZTkhxWjd1Y1lTYUloeGFvZz09\"\n",
    "base_url = \"https://trefle.io/api/species\"\n",
    "page_size = 1000 # Number of species per page\n",
    "api_url = base_url+\"?token=\"\n",
    "api_url += token+\"&page_size=\"+str(page_size)+\"&page=\""
   ]
  },
  {
   "cell_type": "code",
   "execution_count": 3,
   "metadata": {},
   "outputs": [
    {
     "name": "stdout",
     "output_type": "stream",
     "text": [
      "10 1000 9000\n",
      "20 1000 19000\n",
      "30 1000 29000\n",
      "40 1000 39000\n",
      "50 1000 49000\n",
      "60 1000 59000\n",
      "70 1000 69000\n",
      "80 1000 79000\n",
      "90 1000 89000\n",
      "100 1000 99000\n",
      "110 1000 109000\n",
      "120 1000 119000\n",
      "130 1000 129000\n",
      "140 1000 139000\n",
      "150 1000 149000\n",
      "160 1000 159000\n",
      "170 1000 169000\n",
      "180 1000 179000\n",
      "190 1000 189000\n"
     ]
    }
   ],
   "source": [
    "weGood = True # Iterate until we have less than 50 results per page\n",
    "hasFailed = False\n",
    "index  = 1\n",
    "data   = []\n",
    "while weGood and len(data) < 194507:\n",
    "    curr_url = api_url + str(index)\n",
    "    response = requests.get(curr_url)\n",
    "    if response.status_code == 200:\n",
    "        index += 1\n",
    "        temp_data = response.json()\n",
    "        data += response.json()\n",
    "        if len(temp_data) == 0:\n",
    "            weGood = False\n",
    "        if index % 10 == 0:\n",
    "            print(index,len(temp_data),len(data))\n",
    "    else: # Maybe rate limited\n",
    "        if hasFailed:\n",
    "            weGood = False\n",
    "            print(\"Error!\")\n",
    "            print(response.text)\n",
    "        hasFailed = True\n",
    "        time.sleep(10) # Wait ten seconds and try again"
   ]
  },
  {
   "cell_type": "code",
   "execution_count": 4,
   "metadata": {},
   "outputs": [],
   "source": [
    "f = open(\"species.txt\",\"w\")\n",
    "f.write(str(data))\n",
    "f.close()"
   ]
  },
  {
   "cell_type": "code",
   "execution_count": 5,
   "metadata": {},
   "outputs": [],
   "source": [
    "api_url = \"https://trefle.io/api/plants?token=\"\n",
    "api_url += token+\"&page_size=\"+str(page_size)+\"&page=\""
   ]
  },
  {
   "cell_type": "code",
   "execution_count": 6,
   "metadata": {},
   "outputs": [
    {
     "name": "stdout",
     "output_type": "stream",
     "text": [
      "10 1000 203507\n",
      "20 1000 213507\n",
      "30 1000 223507\n",
      "40 1000 233507\n",
      "50 1000 243507\n",
      "60 1000 253507\n",
      "70 1000 263507\n",
      "80 1000 273507\n",
      "90 1000 283507\n",
      "100 1000 293507\n",
      "110 1000 303507\n",
      "120 1000 313507\n",
      "130 1000 323507\n",
      "140 1000 333507\n",
      "150 0 341683\n"
     ]
    }
   ],
   "source": [
    "weGood = True # Iterate until we have less than 50 results per page\n",
    "hasFailed = False\n",
    "index  = 1\n",
    "while weGood and len(data) < 389014:\n",
    "    curr_url = api_url + str(index)\n",
    "    response = requests.get(curr_url)\n",
    "    if response.status_code == 200:\n",
    "        index += 1\n",
    "        temp_data = response.json()\n",
    "        data += response.json()\n",
    "        if len(temp_data) == 0:\n",
    "            weGood = False\n",
    "        if index % 10 == 0:\n",
    "            print(index,len(temp_data),len(data))\n",
    "    else: # Maybe rate limited\n",
    "        if hasFailed:\n",
    "            weGood = False\n",
    "            print(\"Error!\")\n",
    "            print(response.text)\n",
    "        hasFailed = True\n",
    "        time.sleep(10) # Wait ten seconds and try again"
   ]
  },
  {
   "cell_type": "code",
   "execution_count": 7,
   "metadata": {},
   "outputs": [],
   "source": [
    "f = open(\"all.txt\",\"w\")\n",
    "f.write(str(data))\n",
    "f.close()"
   ]
  },
  {
   "cell_type": "code",
   "execution_count": 8,
   "metadata": {},
   "outputs": [],
   "source": [
    "import pickle\n",
    "pickle.dump( data, open( \"all_plants.p\", \"wb\" ) )"
   ]
  }
 ],
 "metadata": {
  "kernelspec": {
   "display_name": "Python 3",
   "language": "python",
   "name": "python3"
  },
  "language_info": {
   "codemirror_mode": {
    "name": "ipython",
    "version": 3
   },
   "file_extension": ".py",
   "mimetype": "text/x-python",
   "name": "python",
   "nbconvert_exporter": "python",
   "pygments_lexer": "ipython3",
   "version": "3.7.3"
  }
 },
 "nbformat": 4,
 "nbformat_minor": 2
}
